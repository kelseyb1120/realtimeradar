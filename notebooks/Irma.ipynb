{
 "cells": [
  {
   "cell_type": "code",
   "execution_count": 1,
   "metadata": {},
   "outputs": [
    {
     "name": "stdout",
     "output_type": "stream",
     "text": [
      "\n",
      "## You are using the Python ARM Radar Toolkit (Py-ART), an open source\n",
      "## library for working with weather radar data. Py-ART is partly\n",
      "## supported by the U.S. Department of Energy as part of the Atmospheric\n",
      "## Radiation Measurement (ARM) Climate Research Facility, an Office of\n",
      "## Science user facility.\n",
      "##\n",
      "## If you use this software to prepare a publication, please cite:\n",
      "##\n",
      "##     JJ Helmus and SM Collis, JORS 2016, doi: 10.5334/jors.119\n",
      "\n"
     ]
    }
   ],
   "source": [
    "#Working with a single file\n",
    "import pyart\n",
    "import os\n",
    "import sys\n",
    "from glob import glob\n",
    "import platform\n",
    "import copy\n",
    "import netCDF4\n",
    "import datetime\n",
    "import numpy as np\n",
    "from matplotlib import pyplot as plt\n",
    "from boto.s3.connection import S3Connection\n",
    "import boto3\n",
    "import tempfile\n",
    "\n",
    "%matplotlib inline"
   ]
  },
  {
   "cell_type": "code",
   "execution_count": null,
   "metadata": {},
   "outputs": [
    {
     "name": "stdout",
     "output_type": "stream",
     "text": [
      "<Key: noaa-nexrad-level2,2017/09/08/KAMX/KAMX20170908_143411_V06>\n",
      "Unfolding\n"
     ]
    },
    {
     "name": "stderr",
     "output_type": "stream",
     "text": [
      "/Users/scollis/anaconda3/envs/cmac_env/lib/python3.6/site-packages/pyart/correct/phase_proc.py:188: RuntimeWarning: invalid value encountered in sqrt\n",
      "  noise = smooth_and_trim(np.sqrt((line - signal) ** 2), window_len=wl)\n",
      "/Users/scollis/anaconda3/envs/cmac_env/lib/python3.6/site-packages/pyart/correct/phase_proc.py:189: RuntimeWarning: divide by zero encountered in true_divide\n",
      "  return abs(signal) / noise\n"
     ]
    },
    {
     "name": "stdout",
     "output_type": "stream",
     "text": [
      "Exec time:  12.284800052642822\n",
      "Doing  0\n"
     ]
    },
    {
     "name": "stderr",
     "output_type": "stream",
     "text": [
      "/Users/scollis/anaconda3/envs/cmac_env/lib/python3.6/site-packages/pyart/correct/phase_proc.py:589: MaskedArrayFutureWarning: setting an item on a masked array which has a shared mask will not copy the mask and also change the original mask array in the future.\n",
      "Check the NumPy 1.11 release notes for more information.\n",
      "  sct[np.where(sct < 0.0)] = 0.0\n"
     ]
    },
    {
     "name": "stdout",
     "output_type": "stream",
     "text": [
      "Doing  1\n",
      "Doing  2\n",
      "Doing  3\n",
      "Doing  4\n",
      "Doing  5\n",
      "Doing  6\n",
      "Doing  7\n",
      "Doing  8\n"
     ]
    }
   ],
   "source": [
    "import imp\n",
    "lib_loc = os.path.join(os.path.expanduser('~'), 'unfunded_projects/realtimeradar/code/processing_code.py')\n",
    "radar_codes = imp.load_source('radar_codes', lib_loc)\n",
    "station = 'KAMX'\n",
    "my_datetime = datetime.datetime.utcnow()\n",
    "radar = radar_codes.get_radar_from_aws(station, my_datetime)\n",
    "\n",
    "kdp_top = 10000.\n",
    "coh_pwr = copy.deepcopy(radar.fields['differential_phase'])\n",
    "coh_pwr['data'] = coh_pwr['data']*0.+1.\n",
    "radar.fields['NCP'] = coh_pwr\n",
    "phidp,kdp = pyart.correct.phase_proc_lp(radar,0.0,\n",
    "                                      refl_field='reflectivity',\n",
    "                                      LP_solver='cylp',\n",
    "                                      ncp_field='NCP',\n",
    "                                      rhv_field='cross_correlation_ratio',\n",
    "                                      phidp_field='differential_phase',\n",
    "                                      fzl = kdp_top,\n",
    "                                      coef=.87,\n",
    "                                      low_z=25., debug=True)\n",
    "radar.fields['cylp_processed_phase'] = phidp\n",
    "radar.fields['specific_differential_phase'] = kdp\n",
    "\n",
    "radar_codes.save_latest_kamx_z_png_s3(radar)\n",
    "radar_codes.save_latest_kamx_kdp_png_s3(radar)\n",
    "radar_codes.save_latest_kamx_zdr_png_s3(radar)\n",
    "radar_codes.save_latest_kamx_vr_png_s3(radar)\n",
    "\n"
   ]
  },
  {
   "cell_type": "code",
   "execution_count": null,
   "metadata": {
    "collapsed": true
   },
   "outputs": [],
   "source": []
  }
 ],
 "metadata": {
  "kernelspec": {
   "display_name": "Python 3",
   "language": "python",
   "name": "python3"
  },
  "language_info": {
   "codemirror_mode": {
    "name": "ipython",
    "version": 3
   },
   "file_extension": ".py",
   "mimetype": "text/x-python",
   "name": "python",
   "nbconvert_exporter": "python",
   "pygments_lexer": "ipython3",
   "version": "3.6.1"
  }
 },
 "nbformat": 4,
 "nbformat_minor": 2
}
